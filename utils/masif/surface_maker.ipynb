{
 "cells": [
  {
   "cell_type": "code",
   "execution_count": 1,
   "metadata": {},
   "outputs": [],
   "source": [
    "#os.environ[\"LD_LIBRARY_PATH\"] = '/home/haotian/Molecule_Generation/APBS-3.0.0.Linux/lib:/home/haotian/software/miniconda3/envs/deepdock/lib'\n",
    "msms_bin=\"/home/haotian/Molecule_Generation/SurfBP/dataset/install_software/APBS-3.0.0.Linux/bin/msms\"\n",
    "apbs_bin = '/home/haotian/Molecule_Generation/SurfBP/dataset/install_software/APBS-3.0.0.Linux/bin/apbs'\n",
    "pdb2pqr_bin=\"/home/haotian/Molecule_Generation/SurfBP/dataset/install_software/pdb2pqr-linux-bin64-2.1.1/pdb2pqr\"\n",
    "multivalue_bin=\"/home/haotian/Molecule_Generation/SurfBP/dataset/install_software/APBS-3.0.0.Linux/share/apbs/tools/bin/multivalue\""
   ]
  },
  {
   "cell_type": "code",
   "execution_count": 1,
   "metadata": {},
   "outputs": [],
   "source": [
    "import os\n",
    "import numpy as np\n",
    "import subprocess\n",
    "import pymesh\n",
    "import tempfile, shutil\n",
    "#import Bio.PDB\n",
    "from Bio.PDB import PDBParser, PDBIO, Select \n",
    "from Bio.PDB import NeighborSearch, Selection\n",
    "from rdkit import Chem\n",
    "from scipy.spatial import distance, KDTree\n",
    "from IPython.utils import io\n",
    "from joblib import Parallel, delayed\n",
    "import sys\n",
    "# sys.path.append(os.path.dirname(__file__))\n",
    "from compute_normal import compute_normal\n",
    "from computeAPBS import computeAPBS\n",
    "from computeCharges import computeCharges, assignChargesToNewMesh\n",
    "from computeHydrophobicity import computeHydrophobicity\n",
    "from computeMSMS import computeMSMS\n",
    "from fixmesh import fix_mesh\n",
    "from save_ply import save_ply"
   ]
  },
  {
   "cell_type": "code",
   "execution_count": 2,
   "metadata": {},
   "outputs": [],
   "source": [
    "msms_bin=\"/home/haotian/Molecule_Generation/SurfBP/dataset/install_software/APBS-3.0.0.Linux/bin/msms\"\n",
    "apbs_bin = '/home/haotian/Molecule_Generation/SurfBP/dataset/install_software/APBS-3.0.0.Linux/bin/apbs'\n",
    "pdb2pqr_bin=\"/home/haotian/Molecule_Generation/SurfBP/dataset/install_software/pdb2pqr-linux-bin64-2.1.1/pdb2pqr\"\n",
    "multivalue_bin=\"/home/haotian/Molecule_Generation/SurfBP/dataset/install_software/APBS-3.0.0.Linux/share/apbs/tools/bin/multivalue\""
   ]
  },
  {
   "cell_type": "code",
   "execution_count": 5,
   "metadata": {},
   "outputs": [],
   "source": [
    "prot_path = './1z6e_protein.pdb'\n",
    "lig_path = './1z6e_ligand.mol2'\n",
    "outdir='.'\n",
    "dist_threshold=8.0\n",
    "use_hbond=True\n",
    "use_hphob=True\n",
    "use_apbs=True\n",
    "mesh_res=1.0\n",
    "epsilon=1.0e-6\n",
    "feature_interpolation=True\n",
    "out_name= None"
   ]
  },
  {
   "cell_type": "code",
   "execution_count": 6,
   "metadata": {},
   "outputs": [],
   "source": [
    "workdir = '/home/haotian/Molecule_Generation/SurfBP/dataset/masif/workdir'\n",
    "protname = os.path.basename(prot_path).replace(\".pdb\",\"\")\n",
    "# Get atom coordinates\n",
    "suffix = lig_path.split('.')[-1]\n",
    "if suffix == 'mol':\n",
    "    mol = Chem.MolFromMolFile(lig_path)\n",
    "elif suffix == 'mol2':\n",
    "    mol = Chem.MolFromMol2File(lig_path)\n",
    "elif suffix == 'sdf':\n",
    "    suppl = Chem.SDMolSupplier(lig_path, sanitize=False)\n",
    "    mols = [mol for mol in suppl if mol]\t\n",
    "    mol = mols[0]\n",
    "    # we just use the first mol of .sdf file by default\n",
    "atomCoords = mol.GetConformers()[0].GetPositions()\n",
    "# Read protein and select aminino acids in the binding pocket\n",
    "parser = PDBParser(QUIET=True) # QUIET=True avoids comments on errors in the pdb.\n",
    "\n",
    "structures = parser.get_structure('target', prot_path)\n",
    "structure = structures[0] # 'structures' may contain several proteins in this case only one.\n",
    "\n",
    "atoms  = Selection.unfold_entities(structure, 'A')\n",
    "ns = NeighborSearch(atoms)\n",
    "\n",
    "close_residues= []\n",
    "for a in atomCoords:  \n",
    "    close_residues.extend(ns.search(a, dist_threshold+5, level='R'))\n",
    "close_residues = Selection.uniqueify(close_residues)\n",
    "\n",
    "class SelectNeighbors(Select):\n",
    "    def accept_residue(self, residue):\n",
    "        if residue in close_residues:\n",
    "            if all(a in [i.get_name() for i in residue.get_unpacked_list()] for a in ['N', 'CA', 'C', 'O']) or residue.resname=='HOH':\n",
    "                return True\n",
    "            else:\n",
    "                return False\n",
    "        else:\n",
    "            return False\n",
    "    \n",
    "pdbio = PDBIO()\n",
    "pdbio.set_structure(structure)\n",
    "pdbio.save(\"%s/%s_pocket_%s.pdb\"%(workdir, protname, dist_threshold+5), SelectNeighbors())\n",
    "\n",
    "# Identify closes atom to the ligand\n",
    "structures = parser.get_structure('target', \"%s/%s_pocket_%s.pdb\"%(workdir, protname, dist_threshold+5))\n",
    "structure = structures[0] # 'structures' may contain several proteins in this case only one.\n",
    "atoms = Selection.unfold_entities(structure, 'A')"
   ]
  },
  {
   "cell_type": "code",
   "execution_count": 7,
   "metadata": {},
   "outputs": [],
   "source": [
    "dist = [distance.euclidean(atomCoords.mean(axis=0), a.get_coord()) for a in atoms]\n",
    "atom_idx = np.argmin(dist)\n",
    "vertices1, faces1, normals1, names1, areas1 = computeMSMS(\"%s/%s_pocket_%s.pdb\"%(workdir, protname, dist_threshold+5),  \n",
    "                                                            protonate=True, \n",
    "                                                            one_cavity=atom_idx, \n",
    "                                                            msms_bin=msms_bin,\n",
    "                                                            workdir=workdir)"
   ]
  },
  {
   "cell_type": "code",
   "execution_count": 9,
   "metadata": {},
   "outputs": [],
   "source": [
    "kdt = KDTree(atomCoords)\n",
    "d, r = kdt.query(vertices1)\n",
    "assert(len(d) == len(vertices1))\n",
    "iface_v = np.where(d <= dist_threshold)[0]\n",
    "faces_to_keep = [idx for idx, face in enumerate(faces1) if all(v in iface_v  for v in face)] "
   ]
  },
  {
   "cell_type": "code",
   "execution_count": 14,
   "metadata": {},
   "outputs": [],
   "source": [
    "if use_hbond:\n",
    "    vertex_hbond = computeCharges(prot_path.replace(\".pdb\",\"\"), vertices1, names1)    \n",
    "if use_hphob:\n",
    "    vertex_hphobicity = computeHydrophobicity(names1) "
   ]
  },
  {
   "cell_type": "code",
   "execution_count": 15,
   "metadata": {},
   "outputs": [],
   "source": [
    "vertices2 = vertices1\n",
    "faces2 = faces1\n",
    "# Fix the mesh.\n",
    "mesh = pymesh.form_mesh(vertices2, faces2)\n",
    "mesh = pymesh.submesh(mesh, faces_to_keep, 0)\n",
    "with io.capture_output() as captured:\n",
    "    regular_mesh = fix_mesh(mesh, mesh_res)"
   ]
  },
  {
   "cell_type": "code",
   "execution_count": 17,
   "metadata": {},
   "outputs": [],
   "source": [
    "regular_mesh, info = pymesh.remove_degenerated_triangles(regular_mesh)\n",
    "vertex_normal = compute_normal(regular_mesh.vertices, regular_mesh.faces, eps=epsilon)"
   ]
  },
  {
   "cell_type": "code",
   "execution_count": 19,
   "metadata": {},
   "outputs": [],
   "source": [
    "if use_hbond:\n",
    "    vertex_hbond = assignChargesToNewMesh(regular_mesh.vertices, vertices1, vertex_hbond, feature_interpolation)\n",
    "\n",
    "if use_hphob:\n",
    "    vertex_hphobicity = assignChargesToNewMesh(regular_mesh.vertices, vertices1, vertex_hphobicity, feature_interpolation)"
   ]
  },
  {
   "cell_type": "code",
   "execution_count": 21,
   "metadata": {},
   "outputs": [],
   "source": [
    "if use_apbs:\n",
    "    vertex_charges = computeAPBS(regular_mesh.vertices, \"%s/%s_pocket_%s.pdb\"%(workdir, protname, dist_threshold+5), \n",
    "                                apbs_bin, pdb2pqr_bin, multivalue_bin, workdir)"
   ]
  }
 ],
 "metadata": {
  "kernelspec": {
   "display_name": "Python 3.7.12 ('pymesh')",
   "language": "python",
   "name": "python3"
  },
  "language_info": {
   "codemirror_mode": {
    "name": "ipython",
    "version": 3
   },
   "file_extension": ".py",
   "mimetype": "text/x-python",
   "name": "python",
   "nbconvert_exporter": "python",
   "pygments_lexer": "ipython3",
   "version": "3.6.15"
  },
  "orig_nbformat": 4,
  "vscode": {
   "interpreter": {
    "hash": "554350c8316636f0bfdc97177f33982d037fbdbc8cfba35a8dc63dfefb101a0e"
   }
  }
 },
 "nbformat": 4,
 "nbformat_minor": 2
}
