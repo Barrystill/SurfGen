{
 "cells": [
  {
   "cell_type": "code",
   "execution_count": 1,
   "metadata": {},
   "outputs": [],
   "source": [
    "import os\n",
    "import numpy as np\n",
    "import subprocess\n",
    "import pymesh\n",
    "import tempfile, shutil\n",
    "#import Bio.PDB\n",
    "from Bio.PDB import PDBParser, PDBIO, Select \n",
    "from Bio.PDB import NeighborSearch, Selection\n",
    "from rdkit import Chem\n",
    "from scipy.spatial import distance, KDTree\n",
    "from IPython.utils import io\n",
    "from joblib import Parallel, delayed\n",
    "#from deepdock.utils.mol2graph import *\n",
    "\n",
    "#os.environ[\"BABEL_LIBDIR\"] = \"/home/shenchao/.conda/envs/deepdock/lib/openbabel/3.1.0\"\n",
    "#from openbabel import pybel\n",
    "\n",
    "import sys\n",
    "#sys.path.append(os.path.dirname(__file__))\n",
    "from compute_normal import compute_normal\n",
    "from computeAPBS import computeAPBS\n",
    "from computeCharges import computeCharges, assignChargesToNewMesh\n",
    "from computeHydrophobicity import computeHydrophobicity\n",
    "from computeMSMS import computeMSMS\n",
    "from fixmesh import fix_mesh\n",
    "from save_ply import save_ply"
   ]
  },
  {
   "cell_type": "code",
   "execution_count": 4,
   "metadata": {},
   "outputs": [],
   "source": [
    "prot_path = '/home/haotian/Molecule_Generation/Surface-BP/dataset/masif/1z6e_protein.pdb'\n",
    "lig_path = '/home/haotian/Molecule_Generation/Surface-BP/dataset/masif/1z6e_ligand.mol2'\n",
    "dist_threshold=10.0\n",
    "mesh_res=1.0\n",
    "epsilon=1.0e-6"
   ]
  },
  {
   "cell_type": "code",
   "execution_count": 37,
   "metadata": {},
   "outputs": [],
   "source": [
    "\n",
    "workdir = '/home/haotian/Molecule_Generation/Surface-BP/dataset/masif/workdir'\n",
    "protname = os.path.basename(prot_path).replace(\".pdb\",\"\")\n",
    "mol = Chem.MolFromMol2File(lig_path)"
   ]
  },
  {
   "cell_type": "code",
   "execution_count": 38,
   "metadata": {},
   "outputs": [],
   "source": [
    "atomCoords = mol.GetConformers()[0].GetPositions()\n",
    "# Read protein and select aminino acids in the binding pocket\n",
    "parser = PDBParser(QUIET=True) # QUIET=True avoids comments on errors in the pdb.\n",
    "\n",
    "structures = parser.get_structure('target', prot_path)\n",
    "structure = structures[0] # 'structures' may contain several proteins in this case only one.\n",
    "\n",
    "atoms  = Selection.unfold_entities(structure, 'A')\n",
    "ns = NeighborSearch(atoms)\n",
    "\n",
    "close_residues= []\n",
    "for a in atomCoords:  \n",
    "    close_residues.extend(ns.search(a, dist_threshold+5, level='R'))\n",
    "close_residues = Selection.uniqueify(close_residues)\n",
    "\n",
    "class SelectNeighbors(Select):\n",
    "    def accept_residue(self, residue):\n",
    "        if residue in close_residues:\n",
    "            if all(a in [i.get_name() for i in residue.get_unpacked_list()] for a in ['N', 'CA', 'C', 'O']) or residue.resname=='HOH':\n",
    "                return True\n",
    "            else:\n",
    "                return False\n",
    "        else:\n",
    "            return False\n",
    "    \n",
    "pdbio = PDBIO()\n",
    "pdbio.set_structure(structure)\n",
    "pdbio.save(\"%s/%s_pocket_%s.pdb\"%(workdir, protname, dist_threshold+5), SelectNeighbors())"
   ]
  },
  {
   "cell_type": "code",
   "execution_count": 39,
   "metadata": {},
   "outputs": [],
   "source": [
    "structures = parser.get_structure('target', \"%s/%s_pocket_%s.pdb\"%(workdir, protname, dist_threshold+5))\n",
    "structure = structures[0] # 'structures' may contain several proteins in this case only one.\n",
    "atoms = Selection.unfold_entities(structure, 'A')"
   ]
  },
  {
   "cell_type": "code",
   "execution_count": 41,
   "metadata": {},
   "outputs": [],
   "source": [
    "msms_bin=\"/usr/local/bin/msms\"\n",
    "apbs_bin=\"/home/haotian/Molecule_Generation/APBS-3.0.0.Linux/bin/apbs\"\n",
    "pdb2pqr_bin=\"/home/haotian/Molecule_Generation/pdb2pqr-linux-bin64-2.1.1/pdb2pqr\"\n",
    "multivalue_bin=\"/home/haotian/Molecule_Generation/APBS-3.0.0.Linux/share/apbs/tools/bin/multivalue\""
   ]
  },
  {
   "cell_type": "code",
   "execution_count": 42,
   "metadata": {},
   "outputs": [],
   "source": [
    "dist = [distance.euclidean(atomCoords.mean(axis=0), a.get_coord()) for a in atoms]\n",
    "atom_idx = np.argmin(dist)\n",
    "vertices1, faces1, normals1, names1, areas1 = computeMSMS(\"%s/%s_pocket_%s.pdb\"%(workdir, protname, dist_threshold+5),  \n",
    "                                                            protonate=True, \n",
    "                                                            one_cavity=atom_idx, \n",
    "                                                            msms_bin=msms_bin,\n",
    "                                                            workdir=workdir)\n",
    "                                                                \n",
    "# Find the distance between every vertex in binding site surface and each atom in the ligand.\n",
    "kdt = KDTree(atomCoords)\n",
    "d, r = kdt.query(vertices1)\n",
    "assert(len(d) == len(vertices1))\n",
    "iface_v = np.where(d <= dist_threshold)[0]\n",
    "faces_to_keep = [idx for idx, face in enumerate(faces1) if all(v in iface_v  for v in face)] \n",
    "\n",
    "# Compute \"charged\" vertices\n",
    "\n",
    "vertex_hbond = computeCharges(prot_path.replace(\".pdb\",\"\"), vertices1, names1)    \n",
    "\n",
    "# For each surface residue, assign the hydrophobicity of its amino acid. \n",
    "\n",
    "vertex_hphobicity = computeHydrophobicity(names1) \n",
    "\n",
    "vertices2 = vertices1\n",
    "faces2 = faces1\n",
    "# Fix the mesh.\n",
    "mesh = pymesh.form_mesh(vertices2, faces2)\n",
    "mesh = pymesh.submesh(mesh, faces_to_keep, 0)\n",
    "with io.capture_output() as captured:\n",
    "    regular_mesh = fix_mesh(mesh, mesh_res)\n"
   ]
  },
  {
   "cell_type": "code",
   "execution_count": 43,
   "metadata": {},
   "outputs": [],
   "source": [
    "regular_mesh, info = pymesh.remove_degenerated_triangles(regular_mesh)\n",
    "\n",
    "# Compute the normals\n",
    "vertex_normal = compute_normal(regular_mesh.vertices, regular_mesh.faces, eps=epsilon)"
   ]
  },
  {
   "cell_type": "code",
   "execution_count": 44,
   "metadata": {},
   "outputs": [],
   "source": [
    "vertex_hbond = assignChargesToNewMesh(regular_mesh.vertices, vertices1, vertex_hbond, True)"
   ]
  },
  {
   "cell_type": "code",
   "execution_count": 45,
   "metadata": {},
   "outputs": [],
   "source": [
    "vertex_hphobicity = assignChargesToNewMesh(regular_mesh.vertices, vertices1, vertex_hphobicity, True)"
   ]
  },
  {
   "cell_type": "code",
   "execution_count": 46,
   "metadata": {},
   "outputs": [
    {
     "ename": "FileNotFoundError",
     "evalue": "[Errno 2] No such file or directory: '/home/haotian/Molecule_Generation/Surface-BP/dataset/masif/workdir/temp1_out.csv'",
     "output_type": "error",
     "traceback": [
      "\u001b[0;31m---------------------------------------------------------------------------\u001b[0m",
      "\u001b[0;31mFileNotFoundError\u001b[0m                         Traceback (most recent call last)",
      "\u001b[0;32m<ipython-input-46-6bc41a2d7714>\u001b[0m in \u001b[0;36m<module>\u001b[0;34m()\u001b[0m\n\u001b[1;32m      1\u001b[0m vertex_charges = computeAPBS(regular_mesh.vertices, '/home/haotian/Molecule_Generation/Surface-BP/dataset/masif/workdir/1z6e_protein_pocket_15.0.pdb', \n\u001b[0;32m----> 2\u001b[0;31m \t\t\t\t\t\t\t\t\tapbs_bin, pdb2pqr_bin, multivalue_bin, workdir)\n\u001b[0m",
      "\u001b[0;32m/home/haotian/Molecule_Generation/Surface-BP/dataset/masif/computeAPBS.py\u001b[0m in \u001b[0;36mcomputeAPBS\u001b[0;34m(vertices, pdb_file, apbs_bin, pdb2pqr_bin, multivalue_bin, workdir)\u001b[0m\n\u001b[1;32m     36\u001b[0m \u001b[0;34m\u001b[0m\u001b[0m\n\u001b[1;32m     37\u001b[0m     \u001b[0;31m# Read the charge file\u001b[0m\u001b[0;34m\u001b[0m\u001b[0;34m\u001b[0m\u001b[0;34m\u001b[0m\u001b[0m\n\u001b[0;32m---> 38\u001b[0;31m     \u001b[0mchargefile\u001b[0m \u001b[0;34m=\u001b[0m \u001b[0mopen\u001b[0m\u001b[0;34m(\u001b[0m\u001b[0;34m\"%s/temp1_out.csv\"\u001b[0m\u001b[0;34m%\u001b[0m\u001b[0mworkdir\u001b[0m\u001b[0;34m)\u001b[0m\u001b[0;34m\u001b[0m\u001b[0;34m\u001b[0m\u001b[0m\n\u001b[0m\u001b[1;32m     39\u001b[0m     \u001b[0mcharges\u001b[0m \u001b[0;34m=\u001b[0m \u001b[0mnp\u001b[0m\u001b[0;34m.\u001b[0m\u001b[0marray\u001b[0m\u001b[0;34m(\u001b[0m\u001b[0;34m[\u001b[0m\u001b[0;36m0.0\u001b[0m\u001b[0;34m]\u001b[0m \u001b[0;34m*\u001b[0m \u001b[0mlen\u001b[0m\u001b[0;34m(\u001b[0m\u001b[0mvertices\u001b[0m\u001b[0;34m)\u001b[0m\u001b[0;34m)\u001b[0m\u001b[0;34m\u001b[0m\u001b[0;34m\u001b[0m\u001b[0m\n\u001b[1;32m     40\u001b[0m     \u001b[0;32mfor\u001b[0m \u001b[0mix\u001b[0m\u001b[0;34m,\u001b[0m \u001b[0mline\u001b[0m \u001b[0;32min\u001b[0m \u001b[0menumerate\u001b[0m\u001b[0;34m(\u001b[0m\u001b[0mchargefile\u001b[0m\u001b[0;34m.\u001b[0m\u001b[0mreadlines\u001b[0m\u001b[0;34m(\u001b[0m\u001b[0;34m)\u001b[0m\u001b[0;34m)\u001b[0m\u001b[0;34m:\u001b[0m\u001b[0;34m\u001b[0m\u001b[0;34m\u001b[0m\u001b[0m\n",
      "\u001b[0;31mFileNotFoundError\u001b[0m: [Errno 2] No such file or directory: '/home/haotian/Molecule_Generation/Surface-BP/dataset/masif/workdir/temp1_out.csv'"
     ]
    }
   ],
   "source": [
    "vertex_charges = computeAPBS(regular_mesh.vertices, '/home/haotian/Molecule_Generation/Surface-BP/dataset/masif/workdir/1z6e_protein_pocket_15.0.pdb', \n",
    "\t\t\t\t\t\t\t\t\tapbs_bin, pdb2pqr_bin, multivalue_bin, workdir)"
   ]
  },
  {
   "cell_type": "code",
   "execution_count": null,
   "metadata": {},
   "outputs": [],
   "source": []
  },
  {
   "cell_type": "code",
   "execution_count": 27,
   "metadata": {},
   "outputs": [],
   "source": [
    "chargefile = open(\"%s/temp1_out.csv\"%workdir)"
   ]
  },
  {
   "cell_type": "code",
   "execution_count": 33,
   "metadata": {},
   "outputs": [],
   "source": [
    "charges = np.array([0.0] * len(regular_mesh.vertices))\n",
    "for ix, line in enumerate(chargefile.readlines()):\n",
    "    charges[ix] = float(line.split(\",\")[3])"
   ]
  },
  {
   "cell_type": "code",
   "execution_count": null,
   "metadata": {},
   "outputs": [],
   "source": [
    "import os\n",
    "import numpy as np\n",
    "import subprocess\n",
    "import pymesh\n",
    "import tempfile, shutil\n",
    "#import Bio.PDB\n",
    "from Bio.PDB import PDBParser, PDBIO, Select \n",
    "from Bio.PDB import NeighborSearch, Selection\n",
    "from rdkit import Chem\n",
    "from scipy.spatial import distance, KDTree\n",
    "from IPython.utils import io\n",
    "from joblib import Parallel, delayed\n",
    "#from deepdock.utils.mol2graph import *\n",
    "\n",
    "#os.environ[\"BABEL_LIBDIR\"] = \"/home/shenchao/.conda/envs/deepdock/lib/openbabel/3.1.0\"\n",
    "#from openbabel import pybel\n",
    "\n",
    "import sys\n",
    "#sys.path.append(os.path.dirname(__file__))\n",
    "from compute_normal import compute_normal\n",
    "from computeAPBS import computeAPBS\n",
    "from computeCharges import computeCharges, assignChargesToNewMesh\n",
    "from computeHydrophobicity import computeHydrophobicity\n",
    "from computeMSMS import computeMSMS\n",
    "from fixmesh import fix_mesh\n",
    "from save_ply import save_ply"
   ]
  },
  {
   "cell_type": "code",
   "execution_count": null,
   "metadata": {},
   "outputs": [],
   "source": [
    "prot_path = '/home/haotian/molecules_confs/SDEGen-Plus/sdegen/feats/masif/1z6e_protein.pdb'\n",
    "lig_path = '/home/haotian/molecules_confs/SDEGen-Plus/sdegen/feats/masif/1z6e_ligand.mol2'\n",
    "outdir = '.'\n",
    "dist_threshold=10.0\n",
    "use_hbond=True\n",
    "use_hphob=True\n",
    "use_apbs=True\n",
    "compute_iface=True\n",
    "mesh_res=1.0\n",
    "epsilon=1.0e-6\n",
    "feature_interpolation=True"
   ]
  },
  {
   "cell_type": "code",
   "execution_count": null,
   "metadata": {},
   "outputs": [],
   "source": [
    "workdir = tempfile.mkdtemp()\n",
    "protname = os.path.basename(prot_path).replace(\".pdb\",\"\")\n",
    "mol = Chem.MolFromMol2File(lig_path)\n",
    "atomCoords = mol.GetConformers()[0].GetPositions()\n",
    "parser = PDBParser(QUIET=True) # QUIET=True avoids comments on errors in the pdb.\n",
    "\n",
    "structures = parser.get_structure('target', prot_path)\n",
    "structure = structures[0] # 'structures' may contain several proteins in this case only one.\n",
    "\n",
    "atoms  = Selection.unfold_entities(structure, 'A')\n",
    "ns = NeighborSearch(atoms)\n",
    "\n",
    "close_residues= []\n",
    "for a in atomCoords:  \n",
    "    close_residues.extend(ns.search(a, dist_threshold+5, level='R'))\n",
    "close_residues = Selection.uniqueify(close_residues)\n",
    "\n",
    "class SelectNeighbors(Select):\n",
    "    def accept_residue(self, residue):\n",
    "        if residue in close_residues:\n",
    "            if all(a in [i.get_name() for i in residue.get_unpacked_list()] for a in ['N', 'CA', 'C', 'O']) or residue.resname=='HOH':\n",
    "                return True\n",
    "            else:\n",
    "                return False\n",
    "        else:\n",
    "            return False\n",
    "    \n",
    "pdbio = PDBIO()\n",
    "pdbio.set_structure(structure)\n",
    "pdbio.save(\"%s/%s_pocket_%s.pdb\"%(workdir, protname, dist_threshold+5), SelectNeighbors())\n",
    "\n",
    "# Identify closes atom to the ligand\n",
    "structures = parser.get_structure('target', \"%s/%s_pocket_%s.pdb\"%(workdir, protname, dist_threshold+5))\n",
    "structure = structures[0] # 'structures' may contain several proteins in this case only one.\n",
    "atoms = Selection.unfold_entities(structure, 'A')"
   ]
  },
  {
   "cell_type": "code",
   "execution_count": null,
   "metadata": {},
   "outputs": [],
   "source": [
    "\n",
    "dist = [distance.euclidean(atomCoords.mean(axis=0), a.get_coord()) for a in atoms]\n",
    "atom_idx = np.argmin(dist)\n",
    "vertices1, faces1, normals1, names1, areas1 = computeMSMS(\"%s/%s_pocket_%s.pdb\"%(workdir, protname, dist_threshold+5),  \n",
    "                                                            protonate=True, \n",
    "                                                            one_cavity=atom_idx, \n",
    "                                                            msms_bin=msms_bin,\n",
    "                                                            workdir=workdir)"
   ]
  },
  {
   "cell_type": "code",
   "execution_count": null,
   "metadata": {},
   "outputs": [],
   "source": [
    "kdt = KDTree(atomCoords)\n",
    "d, r = kdt.query(vertices1)\n",
    "assert(len(d) == len(vertices1))\n",
    "iface_v = np.where(d <= dist_threshold)[0]\n",
    "faces_to_keep = [idx for idx, face in enumerate(faces1) if all(v in iface_v  for v in face)] \n",
    "\n",
    "# Compute \"charged\" vertices\n",
    "if use_hbond:\n",
    "    vertex_hbond = computeCharges(prot_path.replace(\".pdb\",\"\"), vertices1, names1)    \n",
    "\n",
    "# For each surface residue, assign the hydrophobicity of its amino acid. \n",
    "if use_hphob:\n",
    "    vertex_hphobicity = computeHydrophobicity(names1) "
   ]
  },
  {
   "cell_type": "code",
   "execution_count": null,
   "metadata": {},
   "outputs": [],
   "source": [
    "vertices2 = vertices1\n",
    "faces2 = faces1\n",
    "# Fix the mesh.\n",
    "mesh = pymesh.form_mesh(vertices2, faces2)\n",
    "mesh = pymesh.submesh(mesh, faces_to_keep, 0)\n",
    "with io.capture_output() as captured:\n",
    "    regular_mesh = fix_mesh(mesh, mesh_res)"
   ]
  },
  {
   "cell_type": "code",
   "execution_count": null,
   "metadata": {},
   "outputs": [],
   "source": [
    "regular_mesh, info = pymesh.remove_degenerated_triangles(regular_mesh)\n",
    "\n",
    "# Compute the normals\n",
    "vertex_normal = compute_normal(regular_mesh.vertices, regular_mesh.faces, eps=epsilon)\n",
    "\n",
    "# Assign charges on new vertices based on charges of old vertices (nearest neighbor)\n",
    "if use_hbond:\n",
    "    vertex_hbond = assignChargesToNewMesh(regular_mesh.vertices, vertices1, vertex_hbond, feature_interpolation)\n",
    "\n",
    "if use_hphob:\n",
    "    vertex_hphobicity = assignChargesToNewMesh(regular_mesh.vertices, vertices1, vertex_hphobicity, feature_interpolation)\n",
    "\n",
    "if use_apbs:\n",
    "    vertex_charges = computeAPBS(regular_mesh.vertices, \"%s/%s_pocket_%s.pdb\"%(workdir, protname, dist_threshold+5), \n",
    "                                apbs_bin, pdb2pqr_bin, multivalue_bin, workdir)"
   ]
  },
  {
   "cell_type": "code",
   "execution_count": 49,
   "metadata": {},
   "outputs": [],
   "source": [
    "workdir = '/home/haotian/Molecule_Generation/Surface-BP/dataset/masif/new_workdir'\n",
    "vertfile = open(\"%s/temp1.csv\"%workdir, \"w\")\n",
    "for vert in regular_mesh.vertices:\n",
    "    vertfile.write(\"{},{},{}\\n\".format(vert[0], vert[1], vert[2]))\n",
    "vertfile.close()"
   ]
  },
  {
   "cell_type": "code",
   "execution_count": null,
   "metadata": {},
   "outputs": [],
   "source": [
    "vertex_charges.shape"
   ]
  },
  {
   "cell_type": "code",
   "execution_count": null,
   "metadata": {},
   "outputs": [],
   "source": [
    "vertex_charges = computeAPBS(regular_mesh.vertices, \"%s/%s_pocket_%s.pdb\"%(workdir, protname, dist_threshold+5), \n",
    "                            apbs_bin, pdb2pqr_bin, multivalue_bin, workdir)"
   ]
  },
  {
   "cell_type": "code",
   "execution_count": null,
   "metadata": {},
   "outputs": [],
   "source": [
    "import subprocess"
   ]
  },
  {
   "cell_type": "code",
   "execution_count": null,
   "metadata": {},
   "outputs": [],
   "source": [
    "vertices = regular_mesh.vertices\n",
    "pdb_file = '/tmp/tmpirkhs69l/1z6e_protein_pocket_15.0.pdb'"
   ]
  },
  {
   "cell_type": "code",
   "execution_count": null,
   "metadata": {},
   "outputs": [],
   "source": [
    "cmd = pdb2pqr_bin + \" --ff=PARSE --whitespace --noopt --apbs-input %s temp1\"%(pdb_file)\n",
    "p = subprocess.Popen([cmd], shell=True, cwd=workdir)"
   ]
  },
  {
   "cell_type": "code",
   "execution_count": null,
   "metadata": {},
   "outputs": [],
   "source": [
    "cmd = apbs_bin + \" temp1.in\"\n",
    "#p = subprocess.Popen([cmd], shell=True, cwd=workdir)"
   ]
  },
  {
   "cell_type": "code",
   "execution_count": null,
   "metadata": {},
   "outputs": [],
   "source": [
    "vertfile = open(\"%s/temp1.csv\"%workdir, \"w\")\n",
    "for vert in vertices:\n",
    "    vertfile.write(\"{},{},{}\\n\".format(vert[0], vert[1], vert[2]))\n",
    "vertfile.close()"
   ]
  },
  {
   "cell_type": "code",
   "execution_count": null,
   "metadata": {},
   "outputs": [],
   "source": [
    "cmd = multivalue_bin + \" temp1.csv temp1.dx temp1_out.csv\""
   ]
  },
  {
   "cell_type": "code",
   "execution_count": null,
   "metadata": {},
   "outputs": [],
   "source": [
    "cmd"
   ]
  },
  {
   "cell_type": "code",
   "execution_count": null,
   "metadata": {},
   "outputs": [],
   "source": [
    "workdir"
   ]
  }
 ],
 "metadata": {
  "kernelspec": {
   "display_name": "Python 3.7.12 ('pymesh')",
   "language": "python",
   "name": "python3"
  },
  "language_info": {
   "codemirror_mode": {
    "name": "ipython",
    "version": 3
   },
   "file_extension": ".py",
   "mimetype": "text/x-python",
   "name": "python",
   "nbconvert_exporter": "python",
   "pygments_lexer": "ipython3",
   "version": "3.6.15"
  },
  "orig_nbformat": 4,
  "vscode": {
   "interpreter": {
    "hash": "554350c8316636f0bfdc97177f33982d037fbdbc8cfba35a8dc63dfefb101a0e"
   }
  }
 },
 "nbformat": 4,
 "nbformat_minor": 2
}
